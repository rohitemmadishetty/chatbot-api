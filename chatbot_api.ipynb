{
 "cells": [
  {
   "cell_type": "code",
   "execution_count": 4,
   "metadata": {},
   "outputs": [],
   "source": [
    "import nltk\n",
    "from nltk.stem.lancaster import LancasterStemmer\n",
    "stemmer = LancasterStemmer()\n",
    "# things we need for Tensorflow\n",
    "import numpy as np\n",
    "from keras.models import Sequential\n",
    "from keras.layers import Dense, Activation, Dropout\n",
    "from keras.optimizers import SGD\n",
    "import pandas as pd\n",
    "import pickle\n",
    "import random"
   ]
  },
  {
   "cell_type": "code",
   "execution_count": 5,
   "metadata": {},
   "outputs": [],
   "source": [
    "intents = pd.read_json('intents.json')"
   ]
  },
  {
   "cell_type": "code",
   "execution_count": 5,
   "metadata": {},
   "outputs": [
    {
     "name": "stderr",
     "output_type": "stream",
     "text": [
      "[nltk_data] Downloading package punkt to\n",
      "[nltk_data]     /Users/rohitemmadishetty/nltk_data...\n",
      "[nltk_data]   Unzipping tokenizers/punkt.zip.\n"
     ]
    },
    {
     "data": {
      "text/plain": [
       "True"
      ]
     },
     "execution_count": 5,
     "metadata": {},
     "output_type": "execute_result"
    }
   ],
   "source": [
    "nltk.download('punkt')"
   ]
  },
  {
   "cell_type": "code",
   "execution_count": 6,
   "metadata": {},
   "outputs": [
    {
     "name": "stdout",
     "output_type": "stream",
     "text": [
      "45 documents\n",
      "9 classes ['adverse_drug', 'blood_pressure', 'blood_pressure_search', 'goodbye', 'greeting', 'hospital_search', 'options', 'pharmacy_search', 'thanks']\n",
      "82 unique stemmed words [\"'s\", ',', 'a', 'advers', 'al', 'anyon', 'ar', 'awesom', 'be', 'behavy', 'blood', 'by', 'bye', 'can', 'caus', 'chat', 'check', 'could', 'dat', 'day', 'detail', 'do', 'dont', 'drug', 'entry', 'find', 'for', 'giv', 'good', 'goodby', 'hav', 'hello', 'help', 'hi', 'hist', 'hospit', 'how', 'i', 'id', 'is', 'lat', 'list', 'load', 'loc', 'log', 'look', 'lookup', 'man', 'me', 'mod', 'nearby', 'next', 'nic', 'of', 'off', 'op', 'paty', 'pharm', 'press', 'provid', 'react', 'rel', 'result', 'search', 'see', 'show', 'suit', 'support', 'task', 'thank', 'that', 'ther', 'til', 'tim', 'to', 'transf', 'up', 'want', 'what', 'which', 'with', 'you']\n"
     ]
    }
   ],
   "source": [
    "words = []\n",
    "classes = []\n",
    "documents = []\n",
    "ignore_words = ['?']\n",
    "# loop through each sentence in our intents patterns\n",
    "for intent in intents['intents']:\n",
    "    for pattern in intent['patterns']:\n",
    "        # tokenize each word in the sentence\n",
    "        w = nltk.word_tokenize(pattern)\n",
    "        # add to our words list\n",
    "        words.extend(w)\n",
    "        # add to documents in our corpus\n",
    "        documents.append((w, intent['tag']))\n",
    "        # add to our classes list\n",
    "        if intent['tag'] not in classes:\n",
    "            classes.append(intent['tag'])\n",
    "# stem and lower each word and remove duplicates\n",
    "words = [stemmer.stem(w.lower()) for w in words if w not in ignore_words]\n",
    "words = sorted(list(set(words)))\n",
    "# sort classes\n",
    "classes = sorted(list(set(classes)))\n",
    "# documents = combination between patterns and intents\n",
    "print (len(documents), \"documents\")\n",
    "# classes = intents\n",
    "print (len(classes), \"classes\", classes)\n",
    "# words = all words, vocabulary\n",
    "print (len(words), \"unique stemmed words\", words)"
   ]
  },
  {
   "cell_type": "code",
   "execution_count": 7,
   "metadata": {},
   "outputs": [],
   "source": [
    "# create our training data\n",
    "training = []\n",
    "# create an empty array for our output\n",
    "output_empty = [0] * len(classes)\n",
    "# training set, bag of words for each sentence\n",
    "for doc in documents:\n",
    "    # initialize our bag of words\n",
    "    bag = []\n",
    "    # list of tokenized words for the pattern\n",
    "    pattern_words = doc[0]\n",
    "    # stem each word - create base word, in attempt to represent related words\n",
    "    pattern_words = [stemmer.stem(word.lower()) for word in pattern_words]\n",
    "    # create our bag of words array with 1, if word match found in current pattern\n",
    "    for w in words:\n",
    "        bag.append(1) if w in pattern_words else bag.append(0)\n",
    "    \n",
    "    # output is a '0' for each tag and '1' for current tag (for each pattern)\n",
    "    output_row = list(output_empty)\n",
    "    output_row[classes.index(doc[1])] = 1\n",
    "    \n",
    "    training.append([bag, output_row])\n",
    "# shuffle our features and turn into np.array\n",
    "random.shuffle(training)\n",
    "training = np.array(training)\n",
    "# create train and test lists. X - patterns, Y - intents\n",
    "train_x = list(training[:,0])\n",
    "train_y = list(training[:,1])"
   ]
  },
  {
   "cell_type": "code",
   "execution_count": 8,
   "metadata": {},
   "outputs": [],
   "source": [
    "# Create model - 3 layers. First layer 128 neurons, second layer 64 neurons and 3rd output layer contains number of neurons\n",
    "# equal to number of intents to predict output intent with softmax\n",
    "model = Sequential()\n",
    "model.add(Dense(128, input_shape=(len(train_x[0]),), activation='relu'))\n",
    "model.add(Dropout(0.5))\n",
    "model.add(Dense(64, activation='relu'))\n",
    "model.add(Dropout(0.5))\n",
    "model.add(Dense(len(train_y[0]), activation='softmax'))"
   ]
  },
  {
   "cell_type": "code",
   "execution_count": 9,
   "metadata": {},
   "outputs": [],
   "source": [
    "# Compile model. Stochastic gradient descent with Nesterov accelerated gradient gives good results for this model\n",
    "sgd = SGD(lr=0.01, decay=1e-6, momentum=0.9, nesterov=True)\n",
    "model.compile(loss='categorical_crossentropy', optimizer=sgd, metrics=['accuracy'])"
   ]
  },
  {
   "cell_type": "code",
   "execution_count": 10,
   "metadata": {},
   "outputs": [
    {
     "name": "stdout",
     "output_type": "stream",
     "text": [
      "Epoch 1/200\n",
      "45/45 [==============================] - 0s 5ms/step - loss: 2.2364 - acc: 0.1111\n",
      "Epoch 2/200\n",
      "45/45 [==============================] - 0s 301us/step - loss: 2.2008 - acc: 0.1333\n",
      "Epoch 3/200\n",
      "45/45 [==============================] - 0s 275us/step - loss: 2.0572 - acc: 0.2222\n",
      "Epoch 4/200\n",
      "45/45 [==============================] - 0s 307us/step - loss: 1.9735 - acc: 0.3111\n",
      "Epoch 5/200\n",
      "45/45 [==============================] - 0s 314us/step - loss: 1.8693 - acc: 0.2889\n",
      "Epoch 6/200\n",
      "45/45 [==============================] - 0s 348us/step - loss: 1.8815 - acc: 0.3556\n",
      "Epoch 7/200\n",
      "45/45 [==============================] - 0s 323us/step - loss: 1.6684 - acc: 0.5778\n",
      "Epoch 8/200\n",
      "45/45 [==============================] - 0s 378us/step - loss: 1.4580 - acc: 0.5778\n",
      "Epoch 9/200\n",
      "45/45 [==============================] - 0s 368us/step - loss: 1.3695 - acc: 0.6667\n",
      "Epoch 10/200\n",
      "45/45 [==============================] - 0s 442us/step - loss: 1.3581 - acc: 0.6444\n",
      "Epoch 11/200\n",
      "45/45 [==============================] - 0s 500us/step - loss: 0.9948 - acc: 0.7111\n",
      "Epoch 12/200\n",
      "45/45 [==============================] - 0s 328us/step - loss: 1.1107 - acc: 0.7333\n",
      "Epoch 13/200\n",
      "45/45 [==============================] - 0s 372us/step - loss: 0.8813 - acc: 0.7111\n",
      "Epoch 14/200\n",
      "45/45 [==============================] - 0s 400us/step - loss: 1.0394 - acc: 0.6222\n",
      "Epoch 15/200\n",
      "45/45 [==============================] - 0s 347us/step - loss: 0.7904 - acc: 0.8000\n",
      "Epoch 16/200\n",
      "45/45 [==============================] - 0s 320us/step - loss: 0.7152 - acc: 0.8000\n",
      "Epoch 17/200\n",
      "45/45 [==============================] - 0s 376us/step - loss: 0.5685 - acc: 0.8667\n",
      "Epoch 18/200\n",
      "45/45 [==============================] - 0s 418us/step - loss: 0.6635 - acc: 0.8222\n",
      "Epoch 19/200\n",
      "45/45 [==============================] - 0s 462us/step - loss: 0.5755 - acc: 0.8667\n",
      "Epoch 20/200\n",
      "45/45 [==============================] - 0s 340us/step - loss: 0.4778 - acc: 0.9111\n",
      "Epoch 21/200\n",
      "45/45 [==============================] - 0s 450us/step - loss: 0.4004 - acc: 0.9556\n",
      "Epoch 22/200\n",
      "45/45 [==============================] - 0s 321us/step - loss: 0.4074 - acc: 0.8667\n",
      "Epoch 23/200\n",
      "45/45 [==============================] - 0s 360us/step - loss: 0.4040 - acc: 0.9333\n",
      "Epoch 24/200\n",
      "45/45 [==============================] - 0s 331us/step - loss: 0.2549 - acc: 0.9778\n",
      "Epoch 25/200\n",
      "45/45 [==============================] - 0s 330us/step - loss: 0.4032 - acc: 0.9111\n",
      "Epoch 26/200\n",
      "45/45 [==============================] - 0s 337us/step - loss: 0.5127 - acc: 0.8000\n",
      "Epoch 27/200\n",
      "45/45 [==============================] - 0s 423us/step - loss: 0.1716 - acc: 1.0000\n",
      "Epoch 28/200\n",
      "45/45 [==============================] - 0s 298us/step - loss: 0.2118 - acc: 0.9556\n",
      "Epoch 29/200\n",
      "45/45 [==============================] - 0s 362us/step - loss: 0.3126 - acc: 0.9111\n",
      "Epoch 30/200\n",
      "45/45 [==============================] - 0s 385us/step - loss: 0.2629 - acc: 0.9111\n",
      "Epoch 31/200\n",
      "45/45 [==============================] - 0s 416us/step - loss: 0.2531 - acc: 0.9556\n",
      "Epoch 32/200\n",
      "45/45 [==============================] - 0s 317us/step - loss: 0.2295 - acc: 0.9556\n",
      "Epoch 33/200\n",
      "45/45 [==============================] - 0s 384us/step - loss: 0.3633 - acc: 0.9111\n",
      "Epoch 34/200\n",
      "45/45 [==============================] - 0s 310us/step - loss: 0.2259 - acc: 0.9556\n",
      "Epoch 35/200\n",
      "45/45 [==============================] - 0s 330us/step - loss: 0.2170 - acc: 0.9556\n",
      "Epoch 36/200\n",
      "45/45 [==============================] - 0s 349us/step - loss: 0.2601 - acc: 0.9556\n",
      "Epoch 37/200\n",
      "45/45 [==============================] - 0s 301us/step - loss: 0.1444 - acc: 1.0000\n",
      "Epoch 38/200\n",
      "45/45 [==============================] - 0s 377us/step - loss: 0.1513 - acc: 0.9778\n",
      "Epoch 39/200\n",
      "45/45 [==============================] - 0s 406us/step - loss: 0.2239 - acc: 0.9778\n",
      "Epoch 40/200\n",
      "45/45 [==============================] - 0s 328us/step - loss: 0.2488 - acc: 0.8889\n",
      "Epoch 41/200\n",
      "45/45 [==============================] - 0s 363us/step - loss: 0.1524 - acc: 0.9778\n",
      "Epoch 42/200\n",
      "45/45 [==============================] - 0s 287us/step - loss: 0.1095 - acc: 1.0000\n",
      "Epoch 43/200\n",
      "45/45 [==============================] - 0s 319us/step - loss: 0.1109 - acc: 1.0000\n",
      "Epoch 44/200\n",
      "45/45 [==============================] - 0s 361us/step - loss: 0.0844 - acc: 0.9778\n",
      "Epoch 45/200\n",
      "45/45 [==============================] - 0s 433us/step - loss: 0.1548 - acc: 0.9778\n",
      "Epoch 46/200\n",
      "45/45 [==============================] - 0s 293us/step - loss: 0.1896 - acc: 0.9333\n",
      "Epoch 47/200\n",
      "45/45 [==============================] - 0s 367us/step - loss: 0.2042 - acc: 0.9556\n",
      "Epoch 48/200\n",
      "45/45 [==============================] - 0s 325us/step - loss: 0.1174 - acc: 0.9778\n",
      "Epoch 49/200\n",
      "45/45 [==============================] - 0s 348us/step - loss: 0.1007 - acc: 0.9778\n",
      "Epoch 50/200\n",
      "45/45 [==============================] - 0s 299us/step - loss: 0.1541 - acc: 0.9556\n",
      "Epoch 51/200\n",
      "45/45 [==============================] - 0s 264us/step - loss: 0.1587 - acc: 0.9556\n",
      "Epoch 52/200\n",
      "45/45 [==============================] - 0s 1ms/step - loss: 0.0964 - acc: 0.9778\n",
      "Epoch 53/200\n",
      "45/45 [==============================] - 0s 320us/step - loss: 0.1671 - acc: 0.9778\n",
      "Epoch 54/200\n",
      "45/45 [==============================] - 0s 360us/step - loss: 0.1261 - acc: 0.9778\n",
      "Epoch 55/200\n",
      "45/45 [==============================] - 0s 221us/step - loss: 0.1800 - acc: 0.9111\n",
      "Epoch 56/200\n",
      "45/45 [==============================] - 0s 264us/step - loss: 0.0553 - acc: 1.0000\n",
      "Epoch 57/200\n",
      "45/45 [==============================] - 0s 255us/step - loss: 0.0725 - acc: 1.0000\n",
      "Epoch 58/200\n",
      "45/45 [==============================] - 0s 268us/step - loss: 0.0863 - acc: 1.0000\n",
      "Epoch 59/200\n",
      "45/45 [==============================] - 0s 261us/step - loss: 0.0742 - acc: 0.9778\n",
      "Epoch 60/200\n",
      "45/45 [==============================] - 0s 261us/step - loss: 0.1715 - acc: 0.9556\n",
      "Epoch 61/200\n",
      "45/45 [==============================] - 0s 289us/step - loss: 0.1004 - acc: 1.0000\n",
      "Epoch 62/200\n",
      "45/45 [==============================] - 0s 306us/step - loss: 0.0806 - acc: 1.0000\n",
      "Epoch 63/200\n",
      "45/45 [==============================] - 0s 273us/step - loss: 0.1142 - acc: 0.9556\n",
      "Epoch 64/200\n",
      "45/45 [==============================] - 0s 247us/step - loss: 0.0365 - acc: 1.0000\n",
      "Epoch 65/200\n",
      "45/45 [==============================] - 0s 296us/step - loss: 0.2407 - acc: 0.9111\n",
      "Epoch 66/200\n",
      "45/45 [==============================] - 0s 286us/step - loss: 0.0303 - acc: 1.0000\n",
      "Epoch 67/200\n",
      "45/45 [==============================] - 0s 297us/step - loss: 0.0971 - acc: 0.9778\n",
      "Epoch 68/200\n",
      "45/45 [==============================] - 0s 234us/step - loss: 0.0520 - acc: 0.9778\n",
      "Epoch 69/200\n",
      "45/45 [==============================] - 0s 273us/step - loss: 0.0551 - acc: 0.9778\n",
      "Epoch 70/200\n",
      "45/45 [==============================] - 0s 257us/step - loss: 0.0746 - acc: 1.0000\n",
      "Epoch 71/200\n",
      "45/45 [==============================] - 0s 315us/step - loss: 0.0382 - acc: 1.0000\n",
      "Epoch 72/200\n",
      "45/45 [==============================] - 0s 257us/step - loss: 0.0871 - acc: 0.9778\n",
      "Epoch 73/200\n",
      "45/45 [==============================] - 0s 230us/step - loss: 0.1461 - acc: 0.9333\n",
      "Epoch 74/200\n",
      "45/45 [==============================] - 0s 251us/step - loss: 0.0467 - acc: 1.0000\n",
      "Epoch 75/200\n",
      "45/45 [==============================] - 0s 254us/step - loss: 0.0221 - acc: 1.0000\n",
      "Epoch 76/200\n",
      "45/45 [==============================] - 0s 209us/step - loss: 0.0641 - acc: 1.0000\n",
      "Epoch 77/200\n",
      "45/45 [==============================] - 0s 249us/step - loss: 0.0559 - acc: 1.0000\n",
      "Epoch 78/200\n",
      "45/45 [==============================] - 0s 241us/step - loss: 0.0238 - acc: 1.0000\n",
      "Epoch 79/200\n",
      "45/45 [==============================] - 0s 232us/step - loss: 0.0868 - acc: 0.9556\n",
      "Epoch 80/200\n",
      "45/45 [==============================] - 0s 255us/step - loss: 0.0770 - acc: 1.0000\n",
      "Epoch 81/200\n",
      "45/45 [==============================] - 0s 252us/step - loss: 0.0596 - acc: 0.9778\n",
      "Epoch 82/200\n",
      "45/45 [==============================] - 0s 248us/step - loss: 0.1394 - acc: 0.9556\n",
      "Epoch 83/200\n",
      "45/45 [==============================] - 0s 256us/step - loss: 0.0749 - acc: 1.0000\n",
      "Epoch 84/200\n",
      "45/45 [==============================] - 0s 239us/step - loss: 0.0177 - acc: 1.0000\n",
      "Epoch 85/200\n"
     ]
    },
    {
     "name": "stdout",
     "output_type": "stream",
     "text": [
      "45/45 [==============================] - 0s 264us/step - loss: 0.0306 - acc: 1.0000\n",
      "Epoch 86/200\n",
      "45/45 [==============================] - 0s 241us/step - loss: 0.0254 - acc: 1.0000\n",
      "Epoch 87/200\n",
      "45/45 [==============================] - 0s 215us/step - loss: 0.0255 - acc: 1.0000\n",
      "Epoch 88/200\n",
      "45/45 [==============================] - 0s 290us/step - loss: 0.0295 - acc: 1.0000\n",
      "Epoch 89/200\n",
      "45/45 [==============================] - 0s 238us/step - loss: 0.0397 - acc: 1.0000\n",
      "Epoch 90/200\n",
      "45/45 [==============================] - 0s 253us/step - loss: 0.0394 - acc: 1.0000\n",
      "Epoch 91/200\n",
      "45/45 [==============================] - 0s 259us/step - loss: 0.0487 - acc: 0.9778\n",
      "Epoch 92/200\n",
      "45/45 [==============================] - 0s 279us/step - loss: 0.0699 - acc: 0.9778\n",
      "Epoch 93/200\n",
      "45/45 [==============================] - 0s 264us/step - loss: 0.0194 - acc: 1.0000\n",
      "Epoch 94/200\n",
      "45/45 [==============================] - 0s 253us/step - loss: 0.0572 - acc: 0.9778\n",
      "Epoch 95/200\n",
      "45/45 [==============================] - 0s 259us/step - loss: 0.0324 - acc: 1.0000\n",
      "Epoch 96/200\n",
      "45/45 [==============================] - 0s 266us/step - loss: 0.0779 - acc: 0.9778\n",
      "Epoch 97/200\n",
      "45/45 [==============================] - 0s 241us/step - loss: 0.0459 - acc: 1.0000\n",
      "Epoch 98/200\n",
      "45/45 [==============================] - 0s 239us/step - loss: 0.0267 - acc: 1.0000\n",
      "Epoch 99/200\n",
      "45/45 [==============================] - 0s 260us/step - loss: 0.0342 - acc: 1.0000\n",
      "Epoch 100/200\n",
      "45/45 [==============================] - 0s 248us/step - loss: 0.0294 - acc: 1.0000\n",
      "Epoch 101/200\n",
      "45/45 [==============================] - 0s 246us/step - loss: 0.0272 - acc: 1.0000\n",
      "Epoch 102/200\n",
      "45/45 [==============================] - 0s 243us/step - loss: 0.0238 - acc: 1.0000\n",
      "Epoch 103/200\n",
      "45/45 [==============================] - 0s 264us/step - loss: 0.0254 - acc: 1.0000\n",
      "Epoch 104/200\n",
      "45/45 [==============================] - 0s 251us/step - loss: 0.0145 - acc: 1.0000\n",
      "Epoch 105/200\n",
      "45/45 [==============================] - 0s 241us/step - loss: 0.0566 - acc: 0.9778\n",
      "Epoch 106/200\n",
      "45/45 [==============================] - 0s 249us/step - loss: 0.0304 - acc: 1.0000\n",
      "Epoch 107/200\n",
      "45/45 [==============================] - 0s 267us/step - loss: 0.0622 - acc: 0.9778\n",
      "Epoch 108/200\n",
      "45/45 [==============================] - 0s 247us/step - loss: 0.0240 - acc: 1.0000\n",
      "Epoch 109/200\n",
      "45/45 [==============================] - 0s 252us/step - loss: 0.0310 - acc: 1.0000\n",
      "Epoch 110/200\n",
      "45/45 [==============================] - 0s 253us/step - loss: 0.0117 - acc: 1.0000\n",
      "Epoch 111/200\n",
      "45/45 [==============================] - 0s 251us/step - loss: 0.1051 - acc: 0.9556\n",
      "Epoch 112/200\n",
      "45/45 [==============================] - 0s 267us/step - loss: 0.0360 - acc: 1.0000\n",
      "Epoch 113/200\n",
      "45/45 [==============================] - 0s 259us/step - loss: 0.0229 - acc: 0.9778\n",
      "Epoch 114/200\n",
      "45/45 [==============================] - 0s 263us/step - loss: 0.0227 - acc: 1.0000\n",
      "Epoch 115/200\n",
      "45/45 [==============================] - 0s 276us/step - loss: 0.0499 - acc: 1.0000\n",
      "Epoch 116/200\n",
      "45/45 [==============================] - 0s 287us/step - loss: 0.0427 - acc: 1.0000\n",
      "Epoch 117/200\n",
      "45/45 [==============================] - 0s 268us/step - loss: 0.0667 - acc: 1.0000\n",
      "Epoch 118/200\n",
      "45/45 [==============================] - 0s 267us/step - loss: 0.0588 - acc: 0.9778\n",
      "Epoch 119/200\n",
      "45/45 [==============================] - 0s 275us/step - loss: 0.0141 - acc: 1.0000\n",
      "Epoch 120/200\n",
      "45/45 [==============================] - 0s 290us/step - loss: 0.0431 - acc: 0.9778\n",
      "Epoch 121/200\n",
      "45/45 [==============================] - 0s 273us/step - loss: 0.0270 - acc: 1.0000\n",
      "Epoch 122/200\n",
      "45/45 [==============================] - 0s 247us/step - loss: 0.0390 - acc: 1.0000\n",
      "Epoch 123/200\n",
      "45/45 [==============================] - 0s 282us/step - loss: 0.0346 - acc: 1.0000\n",
      "Epoch 124/200\n",
      "45/45 [==============================] - 0s 275us/step - loss: 0.0406 - acc: 0.9778\n",
      "Epoch 125/200\n",
      "45/45 [==============================] - 0s 255us/step - loss: 0.0617 - acc: 0.9778\n",
      "Epoch 126/200\n",
      "45/45 [==============================] - 0s 272us/step - loss: 0.0297 - acc: 1.0000\n",
      "Epoch 127/200\n",
      "45/45 [==============================] - 0s 265us/step - loss: 0.0706 - acc: 0.9778\n",
      "Epoch 128/200\n",
      "45/45 [==============================] - 0s 248us/step - loss: 0.0233 - acc: 1.0000\n",
      "Epoch 129/200\n",
      "45/45 [==============================] - 0s 257us/step - loss: 0.0087 - acc: 1.0000\n",
      "Epoch 130/200\n",
      "45/45 [==============================] - 0s 246us/step - loss: 0.0567 - acc: 0.9778\n",
      "Epoch 131/200\n",
      "45/45 [==============================] - 0s 249us/step - loss: 0.0574 - acc: 0.9778\n",
      "Epoch 132/200\n",
      "45/45 [==============================] - 0s 275us/step - loss: 0.0385 - acc: 0.9778\n",
      "Epoch 133/200\n",
      "45/45 [==============================] - 0s 258us/step - loss: 0.0323 - acc: 0.9778\n",
      "Epoch 134/200\n",
      "45/45 [==============================] - ETA: 0s - loss: 3.5908e-05 - acc: 1.000 - 0s 246us/step - loss: 0.1201 - acc: 0.9778\n",
      "Epoch 135/200\n",
      "45/45 [==============================] - 0s 266us/step - loss: 0.0470 - acc: 1.0000\n",
      "Epoch 136/200\n",
      "45/45 [==============================] - 0s 251us/step - loss: 0.0371 - acc: 0.9778\n",
      "Epoch 137/200\n",
      "45/45 [==============================] - 0s 251us/step - loss: 0.0203 - acc: 1.0000\n",
      "Epoch 138/200\n",
      "45/45 [==============================] - 0s 237us/step - loss: 0.0076 - acc: 1.0000\n",
      "Epoch 139/200\n",
      "45/45 [==============================] - 0s 296us/step - loss: 0.0217 - acc: 1.0000\n",
      "Epoch 140/200\n",
      "45/45 [==============================] - 0s 276us/step - loss: 0.0109 - acc: 1.0000\n",
      "Epoch 141/200\n",
      "45/45 [==============================] - 0s 236us/step - loss: 0.0829 - acc: 0.9778\n",
      "Epoch 142/200\n",
      "45/45 [==============================] - 0s 259us/step - loss: 0.0234 - acc: 1.0000\n",
      "Epoch 143/200\n",
      "45/45 [==============================] - 0s 233us/step - loss: 0.0726 - acc: 0.9556\n",
      "Epoch 144/200\n",
      "45/45 [==============================] - 0s 234us/step - loss: 0.0730 - acc: 0.9778\n",
      "Epoch 145/200\n",
      "45/45 [==============================] - 0s 235us/step - loss: 0.0073 - acc: 1.0000\n",
      "Epoch 146/200\n",
      "45/45 [==============================] - 0s 242us/step - loss: 0.0397 - acc: 1.0000\n",
      "Epoch 147/200\n",
      "45/45 [==============================] - 0s 230us/step - loss: 0.0298 - acc: 1.0000\n",
      "Epoch 148/200\n",
      "45/45 [==============================] - 0s 249us/step - loss: 0.0955 - acc: 0.9778\n",
      "Epoch 149/200\n",
      "45/45 [==============================] - 0s 245us/step - loss: 0.0192 - acc: 1.0000\n",
      "Epoch 150/200\n",
      "45/45 [==============================] - 0s 241us/step - loss: 0.0124 - acc: 1.0000\n",
      "Epoch 151/200\n",
      "45/45 [==============================] - 0s 253us/step - loss: 0.0431 - acc: 1.0000\n",
      "Epoch 152/200\n",
      "45/45 [==============================] - 0s 213us/step - loss: 0.0162 - acc: 1.0000\n",
      "Epoch 153/200\n",
      "45/45 [==============================] - 0s 261us/step - loss: 0.0315 - acc: 1.0000\n",
      "Epoch 154/200\n",
      "45/45 [==============================] - 0s 259us/step - loss: 0.0102 - acc: 1.0000\n",
      "Epoch 155/200\n",
      "45/45 [==============================] - 0s 238us/step - loss: 0.0140 - acc: 1.0000\n",
      "Epoch 156/200\n",
      "45/45 [==============================] - 0s 253us/step - loss: 0.0292 - acc: 0.9778\n",
      "Epoch 157/200\n",
      "45/45 [==============================] - 0s 247us/step - loss: 0.0516 - acc: 1.0000\n",
      "Epoch 158/200\n",
      "45/45 [==============================] - 0s 248us/step - loss: 0.0427 - acc: 0.9778\n",
      "Epoch 159/200\n",
      "45/45 [==============================] - 0s 227us/step - loss: 0.0237 - acc: 1.0000\n",
      "Epoch 160/200\n",
      "45/45 [==============================] - 0s 264us/step - loss: 0.0102 - acc: 1.0000\n",
      "Epoch 161/200\n",
      "45/45 [==============================] - 0s 233us/step - loss: 0.0082 - acc: 1.0000\n",
      "Epoch 162/200\n",
      "45/45 [==============================] - 0s 244us/step - loss: 0.0539 - acc: 0.9778\n",
      "Epoch 163/200\n",
      "45/45 [==============================] - 0s 247us/step - loss: 0.0601 - acc: 0.9778\n",
      "Epoch 164/200\n",
      "45/45 [==============================] - 0s 238us/step - loss: 0.0081 - acc: 1.0000\n",
      "Epoch 165/200\n",
      "45/45 [==============================] - 0s 267us/step - loss: 0.0169 - acc: 1.0000\n",
      "Epoch 166/200\n",
      "45/45 [==============================] - 0s 309us/step - loss: 0.0079 - acc: 1.0000\n",
      "Epoch 167/200\n",
      "45/45 [==============================] - 0s 249us/step - loss: 0.0102 - acc: 1.0000\n",
      "Epoch 168/200\n"
     ]
    },
    {
     "name": "stdout",
     "output_type": "stream",
     "text": [
      "45/45 [==============================] - 0s 243us/step - loss: 0.0065 - acc: 1.0000\n",
      "Epoch 169/200\n",
      "45/45 [==============================] - 0s 247us/step - loss: 0.0093 - acc: 1.0000\n",
      "Epoch 170/200\n",
      "45/45 [==============================] - 0s 245us/step - loss: 0.0290 - acc: 1.0000\n",
      "Epoch 171/200\n",
      "45/45 [==============================] - 0s 257us/step - loss: 0.0117 - acc: 1.0000\n",
      "Epoch 172/200\n",
      "45/45 [==============================] - 0s 239us/step - loss: 0.0138 - acc: 1.0000\n",
      "Epoch 173/200\n",
      "45/45 [==============================] - 0s 262us/step - loss: 0.0138 - acc: 1.0000\n",
      "Epoch 174/200\n",
      "45/45 [==============================] - 0s 271us/step - loss: 0.0088 - acc: 1.0000\n",
      "Epoch 175/200\n",
      "45/45 [==============================] - 0s 273us/step - loss: 0.0077 - acc: 1.0000\n",
      "Epoch 176/200\n",
      "45/45 [==============================] - 0s 267us/step - loss: 0.0056 - acc: 1.0000\n",
      "Epoch 177/200\n",
      "45/45 [==============================] - 0s 235us/step - loss: 0.0101 - acc: 1.0000\n",
      "Epoch 178/200\n",
      "45/45 [==============================] - 0s 273us/step - loss: 0.0629 - acc: 0.9556\n",
      "Epoch 179/200\n",
      "45/45 [==============================] - 0s 254us/step - loss: 0.0219 - acc: 1.0000\n",
      "Epoch 180/200\n",
      "45/45 [==============================] - 0s 255us/step - loss: 0.0048 - acc: 1.0000\n",
      "Epoch 181/200\n",
      "45/45 [==============================] - 0s 252us/step - loss: 0.0395 - acc: 0.9778\n",
      "Epoch 182/200\n",
      "45/45 [==============================] - 0s 277us/step - loss: 0.0877 - acc: 0.9778\n",
      "Epoch 183/200\n",
      "45/45 [==============================] - 0s 258us/step - loss: 0.0284 - acc: 1.0000\n",
      "Epoch 184/200\n",
      "45/45 [==============================] - 0s 266us/step - loss: 0.0323 - acc: 0.9778\n",
      "Epoch 185/200\n",
      "45/45 [==============================] - 0s 242us/step - loss: 0.0156 - acc: 1.0000\n",
      "Epoch 186/200\n",
      "45/45 [==============================] - 0s 331us/step - loss: 0.0224 - acc: 1.0000\n",
      "Epoch 187/200\n",
      "45/45 [==============================] - 0s 282us/step - loss: 0.0344 - acc: 1.0000\n",
      "Epoch 188/200\n",
      "45/45 [==============================] - 0s 280us/step - loss: 0.0477 - acc: 1.0000\n",
      "Epoch 189/200\n",
      "45/45 [==============================] - 0s 272us/step - loss: 0.0023 - acc: 1.0000\n",
      "Epoch 190/200\n",
      "45/45 [==============================] - 0s 260us/step - loss: 0.0140 - acc: 1.0000\n",
      "Epoch 191/200\n",
      "45/45 [==============================] - 0s 262us/step - loss: 0.0040 - acc: 1.0000\n",
      "Epoch 192/200\n",
      "45/45 [==============================] - 0s 283us/step - loss: 0.0215 - acc: 1.0000\n",
      "Epoch 193/200\n",
      "45/45 [==============================] - 0s 267us/step - loss: 0.0069 - acc: 1.0000\n",
      "Epoch 194/200\n",
      "45/45 [==============================] - 0s 248us/step - loss: 0.0046 - acc: 1.0000\n",
      "Epoch 195/200\n",
      "45/45 [==============================] - 0s 262us/step - loss: 0.0540 - acc: 0.9778\n",
      "Epoch 196/200\n",
      "45/45 [==============================] - 0s 261us/step - loss: 0.0072 - acc: 1.0000\n",
      "Epoch 197/200\n",
      "45/45 [==============================] - 0s 264us/step - loss: 0.0172 - acc: 1.0000\n",
      "Epoch 198/200\n",
      "45/45 [==============================] - 0s 247us/step - loss: 0.0066 - acc: 1.0000\n",
      "Epoch 199/200\n",
      "45/45 [==============================] - 0s 251us/step - loss: 0.0094 - acc: 1.0000\n",
      "Epoch 200/200\n",
      "45/45 [==============================] - 0s 244us/step - loss: 0.0242 - acc: 1.0000\n"
     ]
    },
    {
     "data": {
      "text/plain": [
       "<keras.callbacks.History at 0x181af30da0>"
      ]
     },
     "execution_count": 10,
     "metadata": {},
     "output_type": "execute_result"
    }
   ],
   "source": [
    "model.fit(np.array(train_x), np.array(train_y), epochs=200, batch_size=5, verbose=1)"
   ]
  },
  {
   "cell_type": "code",
   "execution_count": 11,
   "metadata": {},
   "outputs": [],
   "source": [
    "def clean_up_sentence(sentence):\n",
    "    # tokenize the pattern - split words into array\n",
    "    sentence_words = nltk.word_tokenize(sentence)\n",
    "    # stem each word - create short form for word\n",
    "    sentence_words = [stemmer.stem(word.lower()) for word in sentence_words]\n",
    "    return sentence_words\n",
    "# return bag of words array: 0 or 1 for each word in the bag that exists in the sentence\n",
    "def bow(sentence, words, show_details=True):\n",
    "    # tokenize the pattern\n",
    "    sentence_words = clean_up_sentence(sentence)\n",
    "    # bag of words - matrix of N words, vocabulary matrix\n",
    "    bag = [0]*len(words)  \n",
    "    for s in sentence_words:\n",
    "        for i,w in enumerate(words):\n",
    "            if w == s: \n",
    "                # assign 1 if current word is in the vocabulary position\n",
    "                bag[i] = 1\n",
    "                if show_details:\n",
    "                    print (\"found in bag: %s\" % w)\n",
    "    return(np.array(bag))"
   ]
  },
  {
   "cell_type": "code",
   "execution_count": 12,
   "metadata": {},
   "outputs": [
    {
     "name": "stdout",
     "output_type": "stream",
     "text": [
      "found in bag: load\n",
      "found in bag: blood\n",
      "found in bag: for\n",
      "found in bag: paty\n",
      "[0 0 0 0 0 0 0 0 0 0 1 0 0 0 0 0 0 0 0 0 0 0 0 0 0 0 1 0 0 0 0 0 0 0 0 0 0\n",
      " 0 0 0 0 0 1 0 0 0 0 0 0 0 0 0 0 0 0 0 1 0 0 0 0 0 0 0 0 0 0 0 0 0 0 0 0 0\n",
      " 0 0 0 0 0 0 0 0]\n",
      "['adverse_drug', 'blood_pressure', 'blood_pressure_search', 'goodbye', 'greeting', 'hospital_search', 'options', 'pharmacy_search', 'thanks']\n"
     ]
    }
   ],
   "source": [
    "p = bow(\"Load blood pessure for patient\", words)\n",
    "print (p)\n",
    "print (classes)"
   ]
  },
  {
   "cell_type": "code",
   "execution_count": 13,
   "metadata": {},
   "outputs": [],
   "source": [
    "# Use pickle to load in the pre-trained model\n",
    "import tensorflow as tf\n",
    "\n",
    "global graph\n",
    "graph = tf.get_default_graph()\n",
    "with open(f'chat-assistant-model.pkl', 'rb') as f:\n",
    "    model = pickle.load(f)"
   ]
  },
  {
   "cell_type": "code",
   "execution_count": 14,
   "metadata": {},
   "outputs": [],
   "source": [
    "def classify_local(sentence):\n",
    "    ERROR_THRESHOLD = 0.25\n",
    "    \n",
    "    # generate probabilities from the model\n",
    "    input_data = pd.DataFrame([bow(sentence, words)], dtype=float, index=['input'])\n",
    "    results = model.predict([input_data])[0]\n",
    "    # filter out predictions below a threshold, and provide intent index\n",
    "    results = [[i,r] for i,r in enumerate(results) if r>ERROR_THRESHOLD]\n",
    "    # sort by strength of probability\n",
    "    results.sort(key=lambda x: x[1], reverse=True)\n",
    "    return_list = []\n",
    "    for r in results:\n",
    "        return_list.append((classes[r[0]], str(r[1])))\n",
    "    # return tuple of intent and probability\n",
    "    \n",
    "    return return_list"
   ]
  },
  {
   "cell_type": "code",
   "execution_count": 15,
   "metadata": {},
   "outputs": [
    {
     "name": "stdout",
     "output_type": "stream",
     "text": [
      "found in bag: can\n",
      "found in bag: you\n",
      "found in bag: help\n",
      "found in bag: me\n",
      "found in bag: to\n",
      "[('options', '0.9999881')]\n"
     ]
    }
   ],
   "source": [
    "p = classify_local(\"Can you help me login to the dashboard ?\")\n",
    "print (p)"
   ]
  },
  {
   "cell_type": "code",
   "execution_count": 16,
   "metadata": {},
   "outputs": [
    {
     "name": "stdout",
     "output_type": "stream",
     "text": [
      " * Serving Flask app \"__main__\" (lazy loading)\n",
      " * Environment: production\n",
      "   WARNING: Do not use the development server in a production environment.\n",
      "   Use a production WSGI server instead.\n",
      " * Debug mode: off\n"
     ]
    },
    {
     "name": "stderr",
     "output_type": "stream",
     "text": [
      " * Running on http://0.0.0.0:5001/ (Press CTRL+C to quit)\n",
      "127.0.0.1 - - [30/Apr/2019 11:18:44] \"\u001b[37mPOST /katana-ml/api/v1.0/assistant HTTP/1.1\u001b[0m\" 200 -\n"
     ]
    },
    {
     "name": "stdout",
     "output_type": "stream",
     "text": [
      "found in bag: hello\n",
      "found in bag: how\n",
      "found in bag: ar\n",
      "found in bag: you\n"
     ]
    },
    {
     "name": "stderr",
     "output_type": "stream",
     "text": [
      "127.0.0.1 - - [30/Apr/2019 11:20:28] \"\u001b[37mPOST /katana-ml/api/v1.0/assistant HTTP/1.1\u001b[0m\" 200 -\n"
     ]
    },
    {
     "name": "stdout",
     "output_type": "stream",
     "text": [
      "found in bag: to\n",
      "found in bag: a\n"
     ]
    },
    {
     "name": "stderr",
     "output_type": "stream",
     "text": [
      "127.0.0.1 - - [30/Apr/2019 11:21:10] \"\u001b[37mPOST /katana-ml/api/v1.0/assistant HTTP/1.1\u001b[0m\" 200 -\n"
     ]
    },
    {
     "name": "stdout",
     "output_type": "stream",
     "text": [
      "found in bag: to\n"
     ]
    },
    {
     "name": "stderr",
     "output_type": "stream",
     "text": [
      "127.0.0.1 - - [30/Apr/2019 11:21:40] \"\u001b[37mPOST /katana-ml/api/v1.0/assistant HTTP/1.1\u001b[0m\" 200 -\n"
     ]
    },
    {
     "name": "stdout",
     "output_type": "stream",
     "text": [
      "found in bag: help\n",
      "found in bag: to\n"
     ]
    },
    {
     "name": "stderr",
     "output_type": "stream",
     "text": [
      "127.0.0.1 - - [30/Apr/2019 11:28:29] \"\u001b[37mPOST /katana-ml/api/v1.0/assistant HTTP/1.1\u001b[0m\" 200 -\n"
     ]
    },
    {
     "name": "stdout",
     "output_type": "stream",
     "text": [
      "found in bag: is\n"
     ]
    },
    {
     "name": "stderr",
     "output_type": "stream",
     "text": [
      "127.0.0.1 - - [30/Apr/2019 11:28:34] \"\u001b[37mPOST /katana-ml/api/v1.0/assistant HTTP/1.1\u001b[0m\" 200 -\n"
     ]
    },
    {
     "name": "stdout",
     "output_type": "stream",
     "text": [
      "found in bag: is\n"
     ]
    },
    {
     "name": "stderr",
     "output_type": "stream",
     "text": [
      "127.0.0.1 - - [30/Apr/2019 11:28:40] \"\u001b[37mPOST /katana-ml/api/v1.0/assistant HTTP/1.1\u001b[0m\" 200 -\n",
      "127.0.0.1 - - [30/Apr/2019 11:28:48] \"\u001b[37mPOST /katana-ml/api/v1.0/assistant HTTP/1.1\u001b[0m\" 200 -\n",
      "127.0.0.1 - - [30/Apr/2019 11:29:00] \"\u001b[37mPOST /katana-ml/api/v1.0/assistant HTTP/1.1\u001b[0m\" 200 -\n"
     ]
    },
    {
     "name": "stdout",
     "output_type": "stream",
     "text": [
      "found in bag: you\n",
      "found in bag: ar\n"
     ]
    },
    {
     "name": "stderr",
     "output_type": "stream",
     "text": [
      "127.0.0.1 - - [30/Apr/2019 11:29:38] \"\u001b[37mPOST /katana-ml/api/v1.0/assistant HTTP/1.1\u001b[0m\" 200 -\n"
     ]
    },
    {
     "name": "stdout",
     "output_type": "stream",
     "text": [
      "found in bag: hello\n",
      "found in bag: how\n",
      "found in bag: ar\n",
      "found in bag: you\n"
     ]
    }
   ],
   "source": [
    "from flask import Flask, request, redirect, jsonify\n",
    "import pandas as pd\n",
    "\n",
    "app = Flask(__name__)\n",
    "@app.route(\"/katana-ml/api/v1.0/assistant\", methods=['POST'])\n",
    "def classify():\n",
    "    ERROR_THRESHOLD = 0.25\n",
    "    \n",
    "    sentence = request.json['sentence']\n",
    "    \n",
    "    # generate probabilities from the model\n",
    "    input_data = pd.DataFrame([bow(sentence, words)], dtype=float, index=['input'])\n",
    "    results = model.predict([input_data])[0]\n",
    "    # filter out predictions below a threshold\n",
    "    results = [[i,r] for i,r in enumerate(results) if r>ERROR_THRESHOLD]\n",
    "    # sort by strength of probability\n",
    "    results.sort(key=lambda x: x[1], reverse=True)\n",
    "    return_list = []\n",
    "    for r in results:\n",
    "        return_list.append({\"intent\": classes[r[0]], \"probability\": str(r[1])})\n",
    "    # return tuple of intent and probability\n",
    "    \n",
    "    response = jsonify(return_list)\n",
    "    return response\n",
    "# running REST interface, port=5000 for direct test, port=5001 for deployment from PM2\n",
    "if __name__ == \"__main__\":\n",
    "    app.run(debug=False, host='0.0.0.0', port=5001)"
   ]
  }
 ],
 "metadata": {
  "kernelspec": {
   "display_name": "Python 3",
   "language": "python",
   "name": "python3"
  },
  "language_info": {
   "codemirror_mode": {
    "name": "ipython",
    "version": 3
   },
   "file_extension": ".py",
   "mimetype": "text/x-python",
   "name": "python",
   "nbconvert_exporter": "python",
   "pygments_lexer": "ipython3",
   "version": "3.7.1"
  }
 },
 "nbformat": 4,
 "nbformat_minor": 2
}
